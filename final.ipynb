{
  "metadata": {
    "kernelspec": {
      "name": "python",
      "display_name": "Python (Pyodide)",
      "language": "python"
    },
    "language_info": {
      "codemirror_mode": {
        "name": "python",
        "version": 3
      },
      "file_extension": ".py",
      "mimetype": "text/x-python",
      "name": "python",
      "nbconvert_exporter": "python",
      "pygments_lexer": "ipython3",
      "version": "3.8"
    }
  },
  "nbformat_minor": 5,
  "nbformat": 4,
  "cells": [
    {
      "id": "aa8adacb-9055-42f9-9111-ef570f56bf31",
      "cell_type": "code",
      "source": "#Write a program that asks the user for their first and last name, and then prints a greeting message using their full name.\n#Example Output\n#Enter your first name: John\n#Enter your last name: Doe\n#Hello, John Doe! Welcome to the program.",
      "metadata": {
        "trusted": true
      },
      "outputs": [],
      "execution_count": 1
    },
    {
      "id": "95d317d2-8304-4f99-afcc-1b70e8a4be92",
      "cell_type": "code",
      "source": "first_name = input(\"Enter your first name: \")\nlast_name = input(\"Enter your last name: \")\nfull_name = first_name + \" \" + last_name\nprint(\"Hello, \" + full_name + \"! Welcome to the program.\")",
      "metadata": {
        "trusted": true
      },
      "outputs": [],
      "execution_count": null
    },
    {
      "id": "fb910732-838c-497a-82f4-b305b72f99af",
      "cell_type": "code",
      "source": "#Write a program that asks the user to input two integers and then prints the sum of the two numbers.\n\n#Example Output:\n#Enter the first integer: 10\n#Enter the second integer: 25\n#The sum of 10 and 25 is 35.",
      "metadata": {
        "trusted": true
      },
      "outputs": [],
      "execution_count": null
    },
    {
      "id": "5bd7bcec-1abe-45a8-b010-59f5487d988c",
      "cell_type": "code",
      "source": "first_num = int(input(\"Enter the first integer: \"))\nlast_num = int(input(\"Enter the second integer: \"))\nsum_result = first_num + last_num\nprint(\"The sum of \" + str(first_num) + \" and \" + str(last_num) + \" is \" + str(sum_result) + \".\")",
      "metadata": {
        "trusted": true
      },
      "outputs": [],
      "execution_count": null
    },
    {
      "id": "301762fd-79d5-49b4-83c5-840cd424cad1",
      "cell_type": "code",
      "source": "#Question: Write a Python program that asks the user to enter a temperature in Celsius and then converts it to Fahrenheit. The formula for conversion is:\n#Fahrenheit=(Celsius×9/5)+32\n\n#Example Output:\n#Enter temperature in Celsius: 25\n#25°C is 77.0°F",
      "metadata": {
        "trusted": true
      },
      "outputs": [],
      "execution_count": null
    },
    {
      "id": "e6bc7768-d66a-4e0b-9bb7-b00a7e4224d6",
      "cell_type": "code",
      "source": "celsius = float(input(\"Enter temperature in Celsius: \")\nfarenheit = (celsius * 9/5) + 32\nprint(str(celsius) + \"°C is \" + str(farenheit) + \"°F\")",
      "metadata": {
        "trusted": true
      },
      "outputs": [],
      "execution_count": null
    },
    {
      "id": "0e0af139-2670-44ae-b342-87e047c7b6c8",
      "cell_type": "code",
      "source": "#Write a Python program that asks the user to enter the length and width of a rectangle, and then calculates and prints the area of the rectangle.\n\n#Example Output:\n#Enter the length of the rectangle: 5\n#Enter the width of the rectangle: 10\n#The area of the rectangle is 50.",
      "metadata": {
        "trusted": true
      },
      "outputs": [],
      "execution_count": null
    },
    {
      "id": "8e122b7e-a475-43b0-b7f3-3338cd60b192",
      "cell_type": "code",
      "source": "length = int(input(\"Enter the length of the rectangle: \")\nwidth = int(input(\"Enter the width of the rectangle: \")\narea = length * width\nprint(\"The area of the rectangle is \" + str(area) + \".\"",
      "metadata": {
        "trusted": true
      },
      "outputs": [],
      "execution_count": null
    },
    {
      "id": "5b4d603b-4b5a-4d80-bd7d-a98979e7331d",
      "cell_type": "code",
      "source": "#Write a program that asks the user for a word and a number, then prints the word repeated that number of times.\n\n#Example Output:\n#Enter a word: Hello\n#Enter a number: 3\n#HelloHelloHello",
      "metadata": {
        "trusted": true
      },
      "outputs": [],
      "execution_count": null
    },
    {
      "id": "1f9d990f-92c0-4736-bfb1-99a52cb13fec",
      "cell_type": "code",
      "source": "word = input(\"Enter a word: \")\nnumber = int(input(\"Enter a number: \"))\nprint(word*number)",
      "metadata": {
        "trusted": true
      },
      "outputs": [],
      "execution_count": null
    },
    {
      "id": "f141eb26-a224-4f60-951f-761a340f70fd",
      "cell_type": "code",
      "source": "#Write a program that asks the user to input two numbers. One input should be converted to an integer and the other input should be converted to a float. Then, print the sum of both numbers.\n\n#Example Output:\n#Enter an integer: 5\n#Enter a decimal number: 3.7\n#The sum of 5 and 3.7 is 8.7.",
      "metadata": {
        "trusted": true
      },
      "outputs": [],
      "execution_count": null
    },
    {
      "id": "4dca2601-ea46-49d5-977f-6ab663d4b8f4",
      "cell_type": "code",
      "source": "integer = int(input(\"Enter an integer: \")\ndecimal = float(input(\"Enter a decimal number: \")\nsum_result = integer + decimal\nprint(\"The sum of \" + str(integer) + \" and \" + str(decimal) + \" is \" + str(sum_result) + \".\")",
      "metadata": {
        "trusted": true
      },
      "outputs": [],
      "execution_count": null
    },
    {
      "id": "7242ed8f-577d-44ec-ad22-6f12603e4653",
      "cell_type": "code",
      "source": "#Write a Python program that asks the user to input three numbers. The program should calculate the sum, product, and average of the three numbers and print the results.\n\n#Example Output:\n#Enter the first number: 2\n#Enter the second number: 3\n#Enter the third number: 5\n#The sum is: 10\n#The product is: 30\n#The average is: 3.3333333333333335",
      "metadata": {
        "trusted": true
      },
      "outputs": [],
      "execution_count": null
    },
    {
      "id": "f328e908-385a-4f44-b1a3-444baef6b9da",
      "cell_type": "code",
      "source": "num1 = int(input(\"Enter the first number: \")\nnum2 = int(input(\"Enter the second number: \")\nnum3 = int(input(\"Enter the third number: \")\nsum_result = num1 + num2 + num3\nproduct = num1 * num2 * num3\naverage = sum_result / 3\n\nprint(\"The sum is: \" + str(sum_result))\nprint(\"The product is: \" + str(product))\nprint(\"The average is: \" + str(average))",
      "metadata": {
        "trusted": true
      },
      "outputs": [],
      "execution_count": null
    },
    {
      "id": "714005b5-d0e5-4747-8e33-c597b240ccc6",
      "cell_type": "code",
      "source": "#Write a Python program that asks the user to enter a temperature. The program should then print True if the temperature is below 0 (freezing), and False if it is 0 or above.\n\n#Example Output:\n#Enter the temperature: -5\n#True",
      "metadata": {
        "trusted": true
      },
      "outputs": [],
      "execution_count": null
    },
    {
      "id": "c9e00278-8384-45d7-b2a0-f72e801361f4",
      "cell_type": "code",
      "source": "temperature = float(input(\"Enter a temperature: \")\nis_freezing = temperature < 0\nprint(is_freezing)",
      "metadata": {
        "trusted": true
      },
      "outputs": [],
      "execution_count": null
    },
    {
      "id": "ea488901-3e74-46ee-8002-cc5633c3d1b5",
      "cell_type": "code",
      "source": "#Write a Python program that asks the user for their name and favorite number. Then, print a sentence in this format:\n#\"<name>'s favorite number is <favorite number>.\"\n\n#Example Output:\n\n#Enter your name: Alice\n#Enter your favorite number: 42\n#Alice's favorite number is 42.",
      "metadata": {
        "trusted": true
      },
      "outputs": [],
      "execution_count": null
    },
    {
      "id": "502b5309-ffd4-4af1-a874-413f3a6f2602",
      "cell_type": "code",
      "source": "name = input(\"Enter your name: \")\nfav_num = int(input(\"Enter your favorite number: \"))\n\nprint(name + \"'s favorite number is \" + str(fav_num) + \".\")",
      "metadata": {
        "trusted": true
      },
      "outputs": [],
      "execution_count": null
    },
    {
      "id": "e3fc5283-5181-4802-84b5-c454b6dcf012",
      "cell_type": "code",
      "source": "#Write a Python program that asks the user to input three subjects they are studying. The program should then print a message displaying those subjects.\n\n#Enter the 1st subject: Math\n#Enter the 2nd subject: Science\n#Enter the 3rd subject: History\n#You are studying: Math, Science, History.",
      "metadata": {
        "trusted": true
      },
      "outputs": [],
      "execution_count": null
    },
    {
      "id": "76e27155-35ea-4c21-9444-19eddb67e621",
      "cell_type": "code",
      "source": "subject1 = input(\"Enter the 1st subject: \")\nsubject2 = input(\"Enter the 2nd subject: \")\nsubject3 = input(\"Enter the 3rd subject: \")\n\nprint(\"You are studying: \" + subject1 + \", \" + subject2 + \", \" + subject3 + \".\")",
      "metadata": {
        "trusted": true
      },
      "outputs": [],
      "execution_count": null
    },
    {
      "id": "ad070730-476e-45c9-814b-85044a65bebe",
      "cell_type": "code",
      "source": "#Write a program to store a subject code, mark, and grade in separate variables. Then, use a multi-line statement to print the results in a formatted message.\n\n#Example Output:\n\n#Subject result: CSCI111 mark 80 grade D",
      "metadata": {
        "trusted": true
      },
      "outputs": [],
      "execution_count": null
    },
    {
      "id": "921266fd-d48b-49b4-90a2-4e7ffb9dd393",
      "cell_type": "code",
      "source": "subject_code = \"CSCI111\"\nmark = 80\ngrade = \"D\"\n\n\nresult = \"Subject result: \"\\\n         + subject_code + \" mark \" + str(mark) \\\n         + \" grade \" + grade \nprint(result)\n",
      "metadata": {
        "trusted": true
      },
      "outputs": [],
      "execution_count": null
    },
    {
      "id": "0ff02304-5de6-4589-adbd-8ad6fdba791d",
      "cell_type": "code",
      "source": "#Write a Python program that prints a greeting message using the format() function. The program should ask the user to input their first name, last name, and age, and display the information in the following format:\n\n#Hi [First Name] [Last Name]!\n#[First Name] [Last Name] is [Age] years old.",
      "metadata": {
        "trusted": true
      },
      "outputs": [],
      "execution_count": null
    },
    {
      "id": "ecc629cd-a3cc-43c3-9191-9b351ca96cd7",
      "cell_type": "code",
      "source": "first_name = input(\"Enter your first name: \")\nlast_name = input(\"Enter your last name: \")\nage = int(input(\"Enter your age: \"))\n\nprint(\"Hi {0} {1}!\".format(first_name, last_name))\nprint(\"{0} {1} is {2} years old.\".format(first_name, last_name, age))\n",
      "metadata": {
        "trusted": true
      },
      "outputs": [],
      "execution_count": null
    },
    {
      "id": "11a3859c-95f6-49e9-81c4-f6395093e3bf",
      "cell_type": "code",
      "source": "#Write a Python program to print a table of elements with proper alignment. Use the following data:\n\n#Elements: Lithium (Li), Sodium (Na), Potassium (K)\n#Atomic numbers: 3, 11, 19\n#Atomic weights: 6.94, 22.99, 39.098\n#Format the output as follows:\n\n#Element        Symbol   Atomic number          Atomic weight\n#Lithium        Li                 3                     6.94\n#Sodium         Na                11                    22.99\n#Potassium      K                 19                    39.10",
      "metadata": {
        "trusted": true
      },
      "outputs": [],
      "execution_count": null
    },
    {
      "id": "b2bf31b6-1e59-40a2-8ec9-91cfd778d252",
      "cell_type": "code",
      "source": "print(\"{0:<15}{1:<10}{2^25}{3:>15.2f}\".format(\"Element\", \"Symbol\", \"Atomic number\", \"Atomic weight\"))\nprint(\"{0:<15}{1:<10}{2^25}{3:>15.2f}\".format(\"Lithium\", \"Li\", \"3\", \"6.94\"))\nprint(\"{0:<15}{1:<10}{2^25}{3:>15.2f}\".format(\"Sodium\", \"Na\", \"11\", \"22.99\"))\nprint(\"{0:<15}{1:<10}{2^25}{3:>15.2f}\".format(\"Potassium\", \"K\", \"19\", \"39.098\"))",
      "metadata": {
        "trusted": true
      },
      "outputs": [],
      "execution_count": null
    },
    {
      "id": "7ca78206-72bc-4481-9260-199ec267ae0b",
      "cell_type": "code",
      "source": "#Write a Python program to print the multiplication table for the number 5 using string formatting.\n\n#Example Output:\n#1 x 5 = 5\n#2 x 5 = 10\n#3 x 5 = 15\n#...\n#10 x 5 = 50",
      "metadata": {
        "trusted": true
      },
      "outputs": [],
      "execution_count": null
    },
    {
      "id": "6a4571fb-13a5-47b9-84a3-3cbb7ad2526e",
      "cell_type": "code",
      "source": "for i in range(1, 11):\n    print(\"{0} x {1} = {2}\".format(i, 5, i*5))",
      "metadata": {
        "trusted": true
      },
      "outputs": [],
      "execution_count": null
    },
    {
      "id": "cc415714-3877-481b-a262-813925a841ff",
      "cell_type": "code",
      "source": "#Write a program that asks the user for two integers. Then, calculate and print both the division result and the floor division result.\n\n#Example Output:\n#Enter the first number: 10\n#Enter the second number: 3\n#Division: 10 / 3 = 3.3333333333333335\n#Floor Division: 10 // 3 = 3",
      "metadata": {
        "trusted": true
      },
      "outputs": [],
      "execution_count": null
    },
    {
      "id": "07bbb139-9d11-4fda-b7f3-d37954bedae0",
      "cell_type": "code",
      "source": "num1 = input(\"Enter the first number: \")\nnum2 = input(\"Enter the second number: \")\\\ndivision = num1 / num2\nfloor_division = num1// num2\n\nprint(f\"Division: {num1} / {num2} = {division}\")\nprint(f\"Floor Division {num1} // {num2} = {floor_division}\")",
      "metadata": {
        "trusted": true
      },
      "outputs": [],
      "execution_count": null
    },
    {
      "id": "fb603c3e-54e6-4774-9d1d-a17acb0290c5",
      "cell_type": "code",
      "source": "#Write a Python program that asks the user for a number and an exponent, then calculates and prints the result of raising the number to the exponent using **.\n\n#Example Output:\n#Enter the base number: 2\n#Enter the exponent: 3\n#Result: 2 raised to the power of 3 is 8",
      "metadata": {
        "trusted": true
      },
      "outputs": [],
      "execution_count": null
    },
    {
      "id": "5bb4a9dc-1bef-4d21-a10b-8270a4f87a59",
      "cell_type": "code",
      "source": "base = float(input(\"Enter the base number: \")\nexponent = float(input(\"Enter the exponent: \")\nresult = base ** exponent\nprint(f\"Result: {base} raised to the power of {exponent} is {result}\")",
      "metadata": {
        "trusted": true
      },
      "outputs": [],
      "execution_count": null
    },
    {
      "id": "3e04251b-ce35-4283-8ee3-87549f9ff909",
      "cell_type": "code",
      "source": "#Write a Python program that asks the user for a number and checks whether it is even or odd using the modulus operator %.\n\n#Example Output:\n#Enter a number: 7\n#7 is odd.",
      "metadata": {
        "trusted": true
      },
      "outputs": [],
      "execution_count": null
    },
    {
      "id": "e2f236a1-d984-4dd7-8326-725f47b9a053",
      "cell_type": "code",
      "source": "num = int(input(\"Enter a number: \")\nif num %2 == 0:\n    print(f\"{num} is even\")\nelse:\n    print(f\"{num} is off\")",
      "metadata": {
        "trusted": true
      },
      "outputs": [],
      "execution_count": null
    },
    {
      "id": "7302978f-9da4-4b96-affd-e7ac65fc18ac",
      "cell_type": "code",
      "source": "#A shop sells a product for $10, but there is a discount where 3 items cost $20. Write a program to calculate the total cost based on the number of items the user wants to buy.\n\n#Example Output:\n#Enter the number of items: 7\n#The total cost is: $50",
      "metadata": {
        "trusted": true
      },
      "outputs": [],
      "execution_count": null
    },
    {
      "id": "d8959f86-2863-43af-9536-7af67c5fa2b5",
      "cell_type": "code",
      "source": "items = int(input(\"Enter the number of items: \")\ncost = (items // 3) * 20 + (items % 3) * 10\\\nprint(f\"The total cost is: ${cost}\")",
      "metadata": {
        "trusted": true
      },
      "outputs": [],
      "execution_count": null
    },
    {
      "id": "f96a8909-0d4e-4d37-8d9a-7e387f9e1ca6",
      "cell_type": "code",
      "source": "#Escape Sequences: Write a program to print:\n\n#John said: \"I am learning Python.\"",
      "metadata": {
        "trusted": true
      },
      "outputs": [],
      "execution_count": null
    },
    {
      "id": "e589b040-51bb-4ee1-a00f-c4ab32a225b6",
      "cell_type": "code",
      "source": "print(\"John said: \\\"I am learning Python.\\\"\"",
      "metadata": {
        "trusted": true
      },
      "outputs": [],
      "execution_count": null
    },
    {
      "id": "56543eb1-8289-447a-8f22-d2f1aadff1a9",
      "cell_type": "code",
      "source": "#String Formatting: Write a program that asks for the user's name and age, then prints:\n\n#John is 25 years old.",
      "metadata": {
        "trusted": true
      },
      "outputs": [],
      "execution_count": null
    },
    {
      "id": "31d535f1-359d-4966-994d-18a4feba7f2c",
      "cell_type": "code",
      "source": "name = input(\"Enter your name: \")\nage = int(input(\"Enter your age: \"))\n\nprint(\"{0} is {1} years old.\".format(name, age)",
      "metadata": {
        "trusted": true
      },
      "outputs": [],
      "execution_count": null
    },
    {
      "id": "04c75f47-2e39-407a-a0f5-c50a387bad11",
      "cell_type": "code",
      "source": "#Arithmetic Operations: Write a program that asks for two numbers and prints their division and floor division results. ",
      "metadata": {
        "trusted": true
      },
      "outputs": [],
      "execution_count": null
    },
    {
      "id": "3c456b85-ad91-4f1e-bca3-2a019c765a39",
      "cell_type": "code",
      "source": "num1 = int(input(\"Enter your first number: \"))\nnum2 = int(input(\"Enter your second number: \"))\n\nprint(\"Division:\" , num1 / num2)\nprint(\"Floor Division:\" , num1 // num2)",
      "metadata": {
        "trusted": true
      },
      "outputs": [],
      "execution_count": null
    },
    {
      "id": "25842e91-05ae-482a-84a4-36b667c58900",
      "cell_type": "code",
      "source": "#Check if a Number is Positive, Negative, or Zero: Write a Python program that asks the user to \n#input a number and checks if the number is positive, negative, or zero.",
      "metadata": {
        "trusted": true
      },
      "outputs": [],
      "execution_count": null
    },
    {
      "id": "81a309d6-305f-4f35-84fb-c290ce404268",
      "cell_type": "code",
      "source": "number = float(input(\"Enter a number: \")\n\nif number > 0:\n        print(\"Positive\")\n    elif: number < 0:\n        print(\"Negartive\")\n    else:\n        print(\"zero\")",
      "metadata": {
        "trusted": true
      },
      "outputs": [],
      "execution_count": null
    },
    {
      "id": "21db5d71-1efc-445e-874e-4f1766c4ee49",
      "cell_type": "code",
      "source": "#Write a Python program to determine the grade based on the user's inputted mark. Use the following criteria:\n\n#A: 80-100\n#B: 60-79\n#C: 40-59\n#D: 0-39",
      "metadata": {
        "trusted": true
      },
      "outputs": [],
      "execution_count": null
    },
    {
      "id": "eb9d7eee-fd04-4919-a595-22cbf4069849",
      "cell_type": "code",
      "source": "mark = int(input(\"Enter your mark: \")\n\nif mark >= 80:\n    grade = \"A\"\nelif mark >= 60:\n    grade = \"B\"\nelif mark >= 40\n    grade = \"C\"\nelse:\n    grade = \"D\"\n\nprint(f\"Mark {mark} Garde {grade}\")",
      "metadata": {
        "trusted": true
      },
      "outputs": [],
      "execution_count": null
    },
    {
      "id": "dc03b3da-7295-4939-a2c4-70396052e935",
      "cell_type": "code",
      "source": "#Find Maximum of Three Numbers: Write a Python program to find the maximum of three numbers entered by the user.",
      "metadata": {
        "trusted": true
      },
      "outputs": [],
      "execution_count": null
    },
    {
      "id": "bbf34ad9-68ba-4f2b-8821-127d9394054b",
      "cell_type": "code",
      "source": "num1 = int(input(\"Enter the 1st number: \")\nnum2 = int(input(\"Enter the 2nd number: \")\nnum3 = int(input(\"Enter the 3rd number: \")\n\nmax_num = num1\n\nif num2 > max_num:\n    max_num = num2\nelif num3 > max_num:\n    max_num = num3\n\nprint(f\"The maximum number is {max_num}\")\n",
      "metadata": {
        "trusted": true
      },
      "outputs": [],
      "execution_count": null
    },
    {
      "id": "9372485a-38f7-4fea-b3b1-eb6c4bcb7228",
      "cell_type": "code",
      "source": "#Sum of Numbers from 1 to 100: Write a Python program to calculate the sum of numbers from 1 to 100.",
      "metadata": {
        "trusted": true
      },
      "outputs": [],
      "execution_count": null
    },
    {
      "id": "e8252bdd-a251-4469-9349-2197b604eecc",
      "cell_type": "code",
      "source": "result = 0\n\nfor i in range(1, 101):\n    result += i\nprint(f\"The sum  of number from 1 to 100 is {result}\")",
      "metadata": {
        "trusted": true
      },
      "outputs": [],
      "execution_count": null
    },
    {
      "id": "9f8624b8-df69-4fd2-af28-bfdc69afa90c",
      "cell_type": "code",
      "source": "#Password Generator: Write a Python program that generates a password from a username. \n#Replace 'i' with '1', 'r' with '7', 's' with '5', and 'z' with '2'.",
      "metadata": {
        "trusted": true
      },
      "outputs": [],
      "execution_count": null
    },
    {
      "id": "f00ff4ef-3867-47b7-bcad-1bb557f74955",
      "cell_type": "code",
      "source": "username = input(\"Enter your username: \")\npassword = \"\"\n\nfor letter in username:\n    if letter == 'i':\n        password += '1'\n    elif letter == 'r':\n        password += '7'\n    elif letter == 's':\n        password += '5'\n    elif letter == 'z':\n        password += '2'\n    else:\n        password += letter\n\nprint(f\"Password is: {password}\")\n",
      "metadata": {
        "trusted": true
      },
      "outputs": [],
      "execution_count": null
    },
    {
      "id": "b86cd534-4c09-46ed-b9a7-67e775c7e91c",
      "cell_type": "code",
      "source": "#Write a Function to Add Two Numbers: Write a Python function that takes two numbers as input and returns their sum.",
      "metadata": {
        "trusted": true
      },
      "outputs": [],
      "execution_count": null
    },
    {
      "id": "39f23bcd-2f1e-4945-b533-a1ebada33e71",
      "cell_type": "code",
      "source": "def add_two_numbers(a, b):\n    return a + b\nprint(add_two_numbers(3, 4))",
      "metadata": {
        "trusted": true
      },
      "outputs": [],
      "execution_count": null
    },
    {
      "id": "13c58555-9e3f-4f97-9dbf-12a45206b34b",
      "cell_type": "code",
      "source": "#Grading Function: Write a Python function that takes a student's mark as input and returns their grade using this scale:\n\n#A: 80–100\n#B: 60–79\n#C: 40–59\n#D: 0–39",
      "metadata": {
        "trusted": true
      },
      "outputs": [],
      "execution_count": null
    },
    {
      "id": "6a4596ae-2237-4bca-a2be-a2fe63d4a6ff",
      "cell_type": "code",
      "source": "def calculate_grade(mark):\n    if mark >= 80:\n        return \"A\"\n    elif mark >= 60:\n        return \"B\"\n    elif mark >= 40:\n        return \"C\"\n    else:\n        return \"D\"",
      "metadata": {
        "trusted": true
      },
      "outputs": [],
      "execution_count": null
    },
    {
      "id": "6e00e996-eab3-4428-91b7-69a5dd62984e",
      "cell_type": "code",
      "source": "#Factorial Calculation Using Recursion: Write a Python recursive function to compute the factorial of a number.",
      "metadata": {
        "trusted": true
      },
      "outputs": [],
      "execution_count": null
    },
    {
      "id": "0c1653bc-6c81-4cb8-8a73-72f529c97248",
      "cell_type": "code",
      "source": "def factorial(n):\n    if n == 1:\n        return 1\n    else:\n        return n * factorial(n-1)\n\nprint(factorial(5))",
      "metadata": {
        "trusted": true
      },
      "outputs": [],
      "execution_count": null
    },
    {
      "id": "754043d7-18c0-49ce-b593-1db5b5275ce3",
      "cell_type": "code",
      "source": "#Backward Counting: Write a Python program that uses a while loop to count backward from 10 to 0.",
      "metadata": {
        "trusted": true
      },
      "outputs": [],
      "execution_count": null
    },
    {
      "id": "6280dc1f-8921-435d-a6c6-f4b1ee1aeaf8",
      "cell_type": "code",
      "source": "i = 10\nwhile i >= 0 \n    print(i)\n    i -= 1",
      "metadata": {
        "trusted": true
      },
      "outputs": [],
      "execution_count": null
    },
    {
      "id": "07f91dba-a5a0-4b57-a730-b75a47008e4e",
      "cell_type": "code",
      "source": "#Even and Odd Number Counter: Write a Python program that repeatedly asks the user for an integer. \n#It should count how many of the entered numbers are even and how many are odd. \n#The program should stop when the user enters \"q\".",
      "metadata": {
        "trusted": true
      },
      "outputs": [],
      "execution_count": null
    },
    {
      "id": "925152dc-0d15-4149-936d-04b55bd764f4",
      "cell_type": "code",
      "source": "even_count = 0\nodd_count = 0\nwhile True:\n    user_input = input(\"Enter an integer (or q to quit): \")\n    if user_input == 'q':\n        break\n    number = int(user_input)\n    if number % 2 == 0:\n        even_count += 1\n    else:\n        odd_count += 1\nprint(f\"You have entered {even_count} even numbers and {odd_count} odd numbers.\")    \n",
      "metadata": {
        "trusted": true
      },
      "outputs": [],
      "execution_count": null
    },
    {
      "id": "1d6752cc-50e9-4fcc-ba0e-9da5421a1d12",
      "cell_type": "code",
      "source": "#Keep Asking for Positive Number: Write a Python program that keeps asking the user to enter a positive integer until they enter one.",
      "metadata": {
        "trusted": true
      },
      "outputs": [],
      "execution_count": null
    },
    {
      "id": "977ef66d-8eb2-4a5c-96ca-641283099a05",
      "cell_type": "code",
      "source": "while True:\n    number = int(input(\"Enter a postive integer: \"))\n    if number > 0:\n        break\nprint(f\"You have entered {number}\")\n                \n",
      "metadata": {
        "trusted": true
      },
      "outputs": [],
      "execution_count": null
    },
    {
      "id": "829a6f86-bfac-47f7-8289-88146e89859c",
      "cell_type": "code",
      "source": "#1)\tWrite a program that will display sum of even numbers greater than 15. User enters ‘q’ to quit.",
      "metadata": {
        "trusted": true
      },
      "outputs": [],
      "execution_count": null
    },
    {
      "id": "eb4bcd61-06ca-4a23-a1f8-b0bdeeb5bca7",
      "cell_type": "code",
      "source": "total_sum = 0\nwhile True:\n    user_input = input(\"Enter a number (or q to quit): \")\n    if user_input.lower() == 'q':\n        break\n    try:\n        number = int(user_input)\n    if number > 15 % 2 == 0:\n        total_sum += number\n        print(f\"Current sum: {total_sum}\")\n    else:\n        print(\"Number is either odd or less than or equal to 15.\")\nexcept ValueError:\n    print(\"Invalid input. Please enter a valid number.\")\n\nprint(f\"Total sum of even numbers greater than 15: {total_sum}\")",
      "metadata": {
        "trusted": true
      },
      "outputs": [],
      "execution_count": null
    },
    {
      "id": "f368e72b-3acc-4546-b0db-766677e8de05",
      "cell_type": "code",
      "source": "#2)\tWrite a program that will display count of even numbers. User enters ‘q’ to quit.",
      "metadata": {
        "trusted": true
      },
      "outputs": [],
      "execution_count": null
    },
    {
      "id": "6cd5b35d-3a89-406d-8856-dc76c512b88b",
      "cell_type": "code",
      "source": "even_count = 0\nwhile True:\n    user_input = input(\"Enter a number (or q to quit): \")\n    if user_input.lower() == 'q':\n        break\n    if user_input.isdigit():\n        number = int(user_input)\n        if number %2 == 0:\n            even_count += 1\n            print(f\"Current even number count: {even_count}\")\n        else:\n            print(\"Number is odd.\")",
      "metadata": {
        "trusted": true
      },
      "outputs": [],
      "execution_count": null
    },
    {
      "id": "516baab0-bf8a-4670-a9be-e2e892a71476",
      "cell_type": "code",
      "source": "#1)\tWrite a program that will accept start end numbers and displays the below equation\n#Start : 2\n#End: 5\n\n#2*2= 4\n#3*3= 9\n#4*4=16\n#5*5=25",
      "metadata": {
        "trusted": true
      },
      "outputs": [],
      "execution_count": null
    },
    {
      "id": "4d7196e3-d347-43bb-8ad9-b82d0e2f0e10",
      "cell_type": "code",
      "source": "start = int(input(\"Enter the start number: \"))\nend = int(input(\"Enter the end number: \"))\n\nfor number in range(start, end + 1):\n    result = number * number\n    print(f\"{number} * {number} = {result}\")",
      "metadata": {
        "trusted": true
      },
      "outputs": [],
      "execution_count": null
    },
    {
      "id": "2e498492-42f8-44f7-a0bc-29fa914dfa71",
      "cell_type": "code",
      "source": "#Write a program that has a loop that ends when user enters  the letter 'q'  ( use while :True )",
      "metadata": {
        "trusted": true
      },
      "outputs": [],
      "execution_count": null
    },
    {
      "id": "5ed6fdc7-e9f1-4c80-8ebc-4aa18757b0eb",
      "cell_type": "code",
      "source": "while True:\n    user_input = input(\"Enter a number (or 'q' to quit): \")\n    if user_input.lower() == 'q':\n        break\n    else:\n        print(F\"You entered: {user_input}\")",
      "metadata": {
        "trusted": true
      },
      "outputs": [],
      "execution_count": null
    },
    {
      "id": "f38a6e70-45ad-41fa-81d2-91bc87bd6784",
      "cell_type": "code",
      "source": "#Write a program that has Loop stops only when user enters a positive number or zero ( use while :True )",
      "metadata": {
        "trusted": true
      },
      "outputs": [],
      "execution_count": null
    },
    {
      "id": "30a2da1f-0ada-4d10-abf9-b55d6c77efc7",
      "cell_type": "code",
      "source": "while True:\n    user_input = input(\"Enter a number (positive number or zero to stop): \")\n    try:\n        number = int(user_input)\n        if number >= 0:\n            print(\"You have entered a positive number or zero. Stopping the loop.\")\n            break\n        else:\n            print(\"Number is negative. Please enter a positive number or zero.\")",
      "metadata": {
        "trusted": true
      },
      "outputs": [],
      "execution_count": null
    },
    {
      "id": "0b46f448-018d-44bd-aac2-bbc0b7fb08a6",
      "cell_type": "code",
      "source": "#6) Write a program with a function that generates a pattern given below\n#* \n\n#* * \n\n#* * * \n\n#* * * * \n\n#* * * * * ",
      "metadata": {
        "trusted": true
      },
      "outputs": [],
      "execution_count": null
    },
    {
      "id": "cf38a5b2-2d03-4bae-a365-9e10d9f793cd",
      "cell_type": "code",
      "source": "def generate_patter(n):\n    for i in range (1, n + 1):\n        print('* ' * i)\n\nnum_rows = 5\ngenerate_pattern(num_rows)",
      "metadata": {
        "trusted": true
      },
      "outputs": [],
      "execution_count": null
    },
    {
      "id": "e05d8d00-7eb5-4835-90ef-f779b7a10e6c",
      "cell_type": "code",
      "source": "#Write a function that will interact with the user to accept n numbers and returns the largest and the smallest value \n#( do not use inbuild functions min and max)",
      "metadata": {
        "trusted": true
      },
      "outputs": [],
      "execution_count": null
    },
    {
      "id": "0dafc117-2696-43a5-af3f-25ba8a673105",
      "cell_type": "code",
      "source": "def find_largest_and_smallest(n):\n    largest = None\n    smallest = None\n    for _ in range (n):\n        user_input = input(\"ENter a number: \")\n        number = float(user_input)\n        if largest is None or number > largest:\n            largest = number\n        if smallest is None or number < smallest:\n            smallest = number\n    return largest, smallest\nn = int(input(\"How many numbers do you want to enter? \"))\nlargest, smallest = find_largest_and_smallest(n)\nprint(f\"Largest value: {largest}\")\nprint(f\"Smallest value: {smallest}\")",
      "metadata": {
        "trusted": true
      },
      "outputs": [],
      "execution_count": null
    },
    {
      "id": "b01d3997-6885-4525-b66a-0b9cae1caa56",
      "cell_type": "code",
      "source": "#Write a program that will accept 5 marks for the subject and to display the grade  for each ina table format using the grade function covered in class  ( use loop and function)\n\n#Enter mark 1: 12\n#Enter mark 2: 56\n#Enter mark 3: 67\n#Enter mark 4: 89\n#Enter mark 5: 89\n\n#Mark: \tGrade: \n\n#  12\t D \n#  56\t C \n#  67\t B \n#  89\t A \n#  89\t A ",
      "metadata": {
        "trusted": true
      },
      "outputs": [],
      "execution_count": null
    },
    {
      "id": "74b805e1-e8fe-401d-9c33-7d09eb84530e",
      "cell_type": "code",
      "source": "def get_grades(mark):\n    \"\"\"Determine the grade based on the mark.\"\"\"\n    if mark < 40:\n        return 'D'\n    elif mark < 60:\n        return 'C'\n    elif mark < 75:\n        return 'B'\n    elif mark < 90:\n        return 'A'\n    else:\n        return 'A+' \n\ndef display_grades(marks):\n    \"\"\"Display marks and their corresponding grades in a table format.\"\"\"\n    print(\"Mark:\\tGrade:\")\n    for mark in marks:\n        grade = get_grades(mark)\n        print(f\"{mark}\\t{grade}\")\n\nmarks = [] \nfor i in range(1, 6):\n    mark = int(input(f\"Enter mark {i}: \"))\n    marks.append(mark)\n\ndisplay_grades(marks)\n",
      "metadata": {
        "trusted": true
      },
      "outputs": [],
      "execution_count": null
    },
    {
      "id": "77c6a496-d286-4289-ac3f-9233877f2d97",
      "cell_type": "code",
      "source": "#Write a program that will allow the user to enter numbers as long as he does not enter ‘e’ to exit. \n#The program should display the count of positive numbers and  the count of negative numbers .",
      "metadata": {
        "trusted": true
      },
      "outputs": [],
      "execution_count": null
    },
    {
      "id": "f279033c-79b4-4fee-856d-764591373cdb",
      "cell_type": "code",
      "source": "def count_positive_negative():\n    positive_count = 0\n    negative_count = 0\n\n    while True:\n        user_input = input(\"Enter a number(or e to exit): \")\n\n        if user_input.lower() == 'e':\n            break\n\n        if user_input:\n            try:\n                number = float(user_input)\n                if number > 0:\n                    positive_count += 1\n                elif number < 0:\n                    negative_count += 1\n            except ValueError:\n                print(\"Invalid input. Please enter a valid number or 'e' to exit.\")\n\n    print(f\"Count of positive numbers: {positive_count}\")\n    print(f\"Count of negative numbers: {negative_count}\")\n\ncount_positive_negative()",
      "metadata": {
        "trusted": true
      },
      "outputs": [],
      "execution_count": null
    },
    {
      "id": "10c9c884-6951-4061-8d79-ad98632a0f6a",
      "cell_type": "code",
      "source": "#Variables and User Input\n#Enter your age: 25  \n#Enter your birth year: 1997  \n#You will turn 100 in the year 2097.",
      "metadata": {
        "trusted": true
      },
      "outputs": [],
      "execution_count": 1
    },
    {
      "id": "ad1f50c7-c712-4f3c-9f5d-85ceb01dc0f7",
      "cell_type": "code",
      "source": "age = int(input(\"Enter your age: \"))\nbirth_year = int(input(\"Enter your birth year: \"))\nyear_turn_100 = birth_year + 100\nprint(f\"You will turn 100 in the year {year_turn_100}.\")\n",
      "metadata": {
        "trusted": true
      },
      "outputs": [],
      "execution_count": null
    },
    {
      "id": "eb202409-793f-4731-a0f0-064fb7e3280b",
      "cell_type": "code",
      "source": "#Conditionals\n#Enter a number: 7  \n#7 is an odd number.\n",
      "metadata": {
        "trusted": true
      },
      "outputs": [],
      "execution_count": null
    },
    {
      "id": "49bb4140-2170-4f87-b5d7-077a8e185fa8",
      "cell_type": "code",
      "source": "number = int(input(\"Enter a number: \"))\nif number % 2 == 0:\n    print(f\"{number} is an even number.\")\nelse:\n    print(f\"{number} is an odd number.\")\n",
      "metadata": {
        "trusted": true
      },
      "outputs": [],
      "execution_count": null
    },
    {
      "id": "61b034b6-cf8d-44bf-ac01-8fa58c9d2a76",
      "cell_type": "code",
      "source": "#Loops\n#Enter a number: 3  \n#3 6 9 12 15 18 21 24 27 30\n",
      "metadata": {
        "trusted": true
      },
      "outputs": [],
      "execution_count": null
    },
    {
      "id": "f1f78dcf-bc3b-47a6-b78d-db45f347d069",
      "cell_type": "code",
      "source": "number = int(input(\"Enter a number: \"))\nfor i in range(1, 11):\n    print(number * i, end=\" \")\n",
      "metadata": {
        "trusted": true
      },
      "outputs": [],
      "execution_count": null
    },
    {
      "id": "0d25a790-a86d-4f76-b333-881eb1b5d475",
      "cell_type": "code",
      "source": "#Lists\n#Enter 5 numbers: 1 5 3 9 2  \n#The largest number is 9.\n",
      "metadata": {
        "trusted": true
      },
      "outputs": [],
      "execution_count": null
    },
    {
      "id": "e2445330-0925-47de-87f0-cd59c3e8bb9a",
      "cell_type": "code",
      "source": "numbers = []\nprint(\"Enter 5 numbers:\")\nfor _ in range(5):\n    num = int(input())\n    numbers.append(num)\nprint(f\"The largest number is {max(numbers)}.\")\n",
      "metadata": {
        "trusted": true
      },
      "outputs": [],
      "execution_count": null
    },
    {
      "id": "a1b7a884-de19-460a-b80e-c8a5e7054245",
      "cell_type": "code",
      "source": "#Dictionaries\n#Enter student name: Alice  \n#Alice's grade is 85.\n",
      "metadata": {
        "trusted": true
      },
      "outputs": [],
      "execution_count": 2
    },
    {
      "id": "60a6f201-11a9-491e-b4ca-5c10c0bbe55b",
      "cell_type": "code",
      "source": "grades = {\"Alice\": 85, \"Bob\": 78, \"Charlie\": 92}\nstudent_name = input(\"Enter student name: \")\nif student_name in grades:\n    print(f\"{student_name}'s grade is {grades[student_name]}.\")\nelse:\n    print(\"Student not found.\")\n",
      "metadata": {
        "trusted": true
      },
      "outputs": [],
      "execution_count": null
    },
    {
      "id": "9ea38b5f-4fe5-4c06-9f28-c747d3367fc1",
      "cell_type": "code",
      "source": "#Functions\n#Enter a number: 4  \n#The square of 4 is 16.\n",
      "metadata": {
        "trusted": true
      },
      "outputs": [],
      "execution_count": null
    },
    {
      "id": "34c3b7a7-8980-4bc9-a6b2-d06d725a3a24",
      "cell_type": "code",
      "source": "def square(number):\n    return number * number\n\nnum = int(input(\"Enter a number: \"))\nprint(f\"The square of {num} is {square(num)}.\")\n",
      "metadata": {
        "trusted": true
      },
      "outputs": [],
      "execution_count": null
    },
    {
      "id": "9d31c6ea-c596-4963-b785-acfa2d17bc32",
      "cell_type": "code",
      "source": "#Classes and Objects\n#Enter student name: John  \n#Enter student age: 21  \n#Welcome, John! You are 21 years old.",
      "metadata": {
        "trusted": true
      },
      "outputs": [],
      "execution_count": null
    },
    {
      "id": "d374cb57-ae6e-4f28-9d19-3dde1a70dd85",
      "cell_type": "code",
      "source": "class Student:\n    def __init__(self, name, age):\n        self.name = name\n        self.age = age\n\nname = input(\"Enter student name: \")\nage = int(input(\"Enter student age: \"))\nstudent = Student(name, age)\nprint(f\"Welcome, {student.name}! You are {student.age} years old.\")\n",
      "metadata": {
        "trusted": true
      },
      "outputs": [],
      "execution_count": null
    },
    {
      "id": "c273ae1c-c5ef-4a32-b8b3-db61697fd3c4",
      "cell_type": "code",
      "source": "#File Handling\n#Enter filename: example.txt  \n#Enter your name: Alice  \n#File contents: Alice\n",
      "metadata": {
        "trusted": true
      },
      "outputs": [],
      "execution_count": 3
    },
    {
      "id": "a1916afe-e1db-4193-ac9c-30fb7fc44053",
      "cell_type": "code",
      "source": "filename = input(\"Enter filename: \")\nname = input(\"Enter your name: \")\n\nwith open(filename, \"w\") as file:\n    file.write(name)\n\nwith open(filename, \"r\") as file:\n    contents = file.read()\n    print(f\"File contents: {contents}\")\n",
      "metadata": {
        "trusted": true
      },
      "outputs": [],
      "execution_count": null
    },
    {
      "id": "7ef3d236-62d2-43f7-95ee-e033d363f1cd",
      "cell_type": "code",
      "source": "#Random Module\n#Guess the number: 50  \n#Too high.  \n#Guess the number: 25  \n#Too low.  \n#Guess the number: 37  \n#Correct!",
      "metadata": {
        "trusted": true
      },
      "outputs": [],
      "execution_count": null
    },
    {
      "id": "f6cc3413-bb20-4dc3-9251-b4c0b72dc365",
      "cell_type": "code",
      "source": "import random\n\nrandom_number = random.randint(1, 100)\nwhile True:\n    guess = int(input(\"Guess the number: \"))\n    if guess < random_number:\n        print(\"Too low.\")\n    elif guess > random_number:\n        print(\"Too high.\")\n    else:\n        print(\"Correct!\")\n        break\n",
      "metadata": {
        "trusted": true
      },
      "outputs": [],
      "execution_count": null
    },
    {
      "id": "1d37e031-fe4f-4d8f-8cc0-1b452fdac473",
      "cell_type": "code",
      "source": "#Revision Questiom\n#1. Write a function list_Sum that accepts two lists and returns a list which is the sum of corresponding values in the lists.",
      "metadata": {
        "trusted": true
      },
      "outputs": [],
      "execution_count": 4
    },
    {
      "id": "e6f21bbe-5704-4c35-9b60-38b58de88a0b",
      "cell_type": "code",
      "source": "def list_Sum(L1, L2):\n    return [L1[i] + L2[i] for i in range(len(L1))]\n\n# Example usage:\nL1 = [1, 2, 3]\nL2 = [10, 20, 30]\nL3 = list_Sum(L1, L2)\nprint(L3)  # Output: [11, 22, 33]\n",
      "metadata": {
        "trusted": true
      },
      "outputs": [],
      "execution_count": null
    },
    {
      "id": "84879532-5d20-449e-9788-8e65ef03bf21",
      "cell_type": "code",
      "source": "#Revision Questiom\n#2. Write a function that removes all occurrences of a number from a list.",
      "metadata": {
        "trusted": true
      },
      "outputs": [],
      "execution_count": null
    },
    {
      "id": "9e78a163-d5b1-4003-b2ca-6aaa850bd5e8",
      "cell_type": "code",
      "source": "def remove_all_occurrences(lst, num):\n    return [x for x in lst if x != num]\n\n# Example usage:\nnumbers = [1, 2, 3, 4, 2, 2, 5]\nresult = remove_all_occurrences(numbers, 2)\nprint(result)  # Output: [1, 3, 4, 5]\n",
      "metadata": {
        "trusted": true
      },
      "outputs": [],
      "execution_count": null
    },
    {
      "id": "94cd8c24-7622-4536-841f-013d2eecc11d",
      "cell_type": "code",
      "source": "#Revision Questiom\n#3. Write a function List_Split that accepts a list and returns two lists: one with even numbers and one with odd numbers.",
      "metadata": {
        "trusted": true
      },
      "outputs": [],
      "execution_count": null
    },
    {
      "id": "97470bb3-5a5d-4a28-bfd1-a0138a9100f5",
      "cell_type": "code",
      "source": "def List_Split(lst):\n    evens = [x for x in lst if x % 2 == 0]\n    odds = [x for x in lst if x % 2 != 0]\n    return evens, odds\n\n# Example usage:\nnumbers = [1, 2, 3, 4, 5, 6]\nevens, odds = List_Split(numbers)\nprint(\"Evens:\", evens)  # Output: [2, 4, 6]\nprint(\"Odds:\", odds)    # Output: [1, 3, 5]\n",
      "metadata": {
        "trusted": true
      },
      "outputs": [],
      "execution_count": null
    },
    {
      "id": "e40abe67-7c37-4b31-a712-2953e8005eb4",
      "cell_type": "code",
      "source": "#Revision Questiom\n#4. Write a program using a list to find the sum and average of values entered by the user until they enter q.",
      "metadata": {
        "trusted": true
      },
      "outputs": [],
      "execution_count": null
    },
    {
      "id": "7fe28c7a-705a-44b9-807b-bd3d0db81a26",
      "cell_type": "code",
      "source": "def sum_and_average():\n    numbers = []\n    while True:\n        value = input(\"Enter a number (or 'q' to quit): \")\n        if value == 'q':\n            break\n        numbers.append(float(value))\n    \n    total = sum(numbers)\n    average = total / len(numbers) if numbers else 0\n    print(f\"Sum: {total}, Average: {average}\")\n\n# Example usage:\nsum_and_average()\n",
      "metadata": {
        "trusted": true
      },
      "outputs": [],
      "execution_count": null
    },
    {
      "id": "60adc32b-094b-4281-be8b-5567fe8ed3a1",
      "cell_type": "code",
      "source": "#Revision Questiom\n#5. Write a program that returns the capital of a country or states \"Sorry, I do not know the capital of this country\" until the user enters q.",
      "metadata": {
        "trusted": true
      },
      "outputs": [],
      "execution_count": null
    },
    {
      "id": "444d89ab-e706-4b9f-b309-54ec691730e3",
      "cell_type": "code",
      "source": "def find_capital():\n    capitals = {\"Australia\": \"Canberra\", \"Nepal\": \"Kathmandu\", \"India\": \"New Delhi\"}\n    while True:\n        country = input(\"Enter country name (or 'q' to quit): \")\n        if country == 'q':\n            break\n        print(capitals.get(country, \"Sorry, I do not know the capital of this country.\"))\n\n# Example usage:\nfind_capital()\n",
      "metadata": {
        "trusted": true
      },
      "outputs": [],
      "execution_count": null
    },
    {
      "id": "32cff169-e09a-4d64-98c6-9dcf6449a825",
      "cell_type": "code",
      "source": "#Revision Questiom\n#6. List of dictionaries containing subject code and credit points, then display the sum and average.",
      "metadata": {
        "trusted": true
      },
      "outputs": [],
      "execution_count": null
    },
    {
      "id": "9a92308c-6d8f-40c6-a19b-cb8b14736c21",
      "cell_type": "code",
      "source": "def subject_credits():\n    subjects = []\n    while True:\n        code = input(\"Enter subject code: \")\n        cp = int(input(\"Enter credit points: \"))\n        subjects.append({\"code\": code, \"cp\": cp})\n\n        if input(\"Add more? (Y/N): \") == \"N\":\n            break\n\n    print(\"{:<15}{:>10}\".format(\"Subject Code\", \"Credit Points\"))\n    total_cp = 0\n    for subject in subjects:\n        print(\"{:<15}{:>10}\".format(subject[\"code\"], subject[\"cp\"]))\n        total_cp += subject[\"cp\"]\n\n    average_cp = total_cp / len(subjects) if subjects else 0\n    print(f\"Total Credit Points: {total_cp}, Average Credit Points: {average_cp}\")\n\n# Example usage:\nsubject_credits()\n",
      "metadata": {
        "trusted": true
      },
      "outputs": [],
      "execution_count": null
    },
    {
      "id": "cddd6a65-1d0d-4922-8cb3-406ed0eb6ef8",
      "cell_type": "code",
      "source": "#Revision Questiom\n#7. Write a program for a play director to manage roles, actors, and calculate total cost.",
      "metadata": {
        "trusted": true
      },
      "outputs": [],
      "execution_count": null
    },
    {
      "id": "e04b0b49-3655-406f-b3cf-2eda222512f4",
      "cell_type": "code",
      "source": "def play_roles():\n    roles = []\n    while True:\n        role = input(\"Enter role: \")\n        actor = input(\"Enter actor name: \")\n        roles.append({\"role\": role, \"actor\": actor})\n\n        if input(\"Add more roles? (Y/N): \") == \"N\":\n            break\n\n    print(\"{:<15}{:<15}\".format(\"Role\", \"Actor\"))\n    for entry in roles:\n        print(\"{:<15}{:<15}\".format(entry[\"role\"], entry[\"actor\"]))\n\n    total_cost = len(roles) * 3000\n    print(f\"Total cost incurred: ${total_cost}\")\n\n# Example usage:\nplay_roles()\n",
      "metadata": {
        "trusted": true
      },
      "outputs": [],
      "execution_count": null
    },
    {
      "id": "6ccb2bf8-8826-4381-b8aa-3aa3cdfadfc9",
      "cell_type": "code",
      "source": "#Revision Questiom\n#8. Create a Student class with specified attributes and methods.",
      "metadata": {
        "trusted": true
      },
      "outputs": [],
      "execution_count": null
    },
    {
      "id": "81ca64d6-9c1c-4810-9cba-714a45ee7c4c",
      "cell_type": "code",
      "source": "class Student:\n    def __init__(self, id, name, address, age):\n        self.id = id\n        self.name = name\n        self.address = address\n        self.age = age\n\n    def __str__(self):\n        return f\"ID: {self.id}, Name: {self.name}, Address: {self.address}, Age: {self.age}\"\n\n    def print_details(self):\n        if self.age > 15:\n            print(self)\n        else:\n            print(\"Not a student\")\n\n# Example usage:\nstudent1 = Student(101, \"John Doe\", \"123 Main St\", 18)\nstudent2 = Student(102, \"Jane Doe\", \"456 Elm St\", 12)\n\nstudent1.print_details()  # Outputs details\nstudent2.print_details()  # Outputs: Not a student\n",
      "metadata": {
        "trusted": true
      },
      "outputs": [],
      "execution_count": null
    }
  ]
}